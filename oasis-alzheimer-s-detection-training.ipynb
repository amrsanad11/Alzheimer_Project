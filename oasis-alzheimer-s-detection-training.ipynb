{
 "cells": [
  {
   "cell_type": "code",
   "execution_count": 1,
   "id": "d32afba1",
   "metadata": {
    "_cell_guid": "b1076dfc-b9ad-4769-8c92-a6c4dae69d19",
    "_uuid": "8f2839f25d086af736a60e9eeb907d3b93b6e0e5",
    "execution": {
     "iopub.execute_input": "2023-06-28T07:35:06.736646Z",
     "iopub.status.busy": "2023-06-28T07:35:06.736169Z",
     "iopub.status.idle": "2023-06-28T07:35:11.812886Z",
     "shell.execute_reply": "2023-06-28T07:35:11.811935Z"
    },
    "papermill": {
     "duration": 5.094669,
     "end_time": "2023-06-28T07:35:11.815258",
     "exception": false,
     "start_time": "2023-06-28T07:35:06.720589",
     "status": "completed"
    },
    "tags": []
   },
   "outputs": [],
   "source": [
    "\n",
    "import os\n",
    "from datetime import datetime\n",
    "\n",
    "import matplotlib.pyplot as plt\n",
    "import numpy as np\n",
    "import pandas as pd\n",
    "import seaborn as sn\n",
    "import torch\n",
    "import torch.nn as nn\n",
    "import torch.nn.functional as F\n",
    "import torch.optim as optim\n",
    "from sklearn.metrics import confusion_matrix, ConfusionMatrixDisplay, classification_report\n",
    "from sklearn.metrics import f1_score\n",
    "from torchvision import datasets, transforms\n",
    "from tqdm import tqdm"
   ]
  },
  {
   "cell_type": "markdown",
   "id": "ef5e49b8",
   "metadata": {
    "papermill": {
     "duration": 0.010451,
     "end_time": "2023-06-28T07:35:11.836019",
     "exception": false,
     "start_time": "2023-06-28T07:35:11.825568",
     "status": "completed"
    },
    "tags": []
   },
   "source": [
    "## Hyperparameters"
   ]
  },
  {
   "cell_type": "code",
   "execution_count": 2,
   "id": "8c59d725",
   "metadata": {
    "execution": {
     "iopub.execute_input": "2023-06-28T07:35:11.856968Z",
     "iopub.status.busy": "2023-06-28T07:35:11.856461Z",
     "iopub.status.idle": "2023-06-28T07:35:11.862832Z",
     "shell.execute_reply": "2023-06-28T07:35:11.861854Z"
    },
    "papermill": {
     "duration": 0.018967,
     "end_time": "2023-06-28T07:35:11.864768",
     "exception": false,
     "start_time": "2023-06-28T07:35:11.845801",
     "status": "completed"
    },
    "tags": []
   },
   "outputs": [],
   "source": [
    "\n",
    "class Hparams:\n",
    "    def __init__(self, train_batch_size=64, test_batch_size=64, learning_rate=0.001, num_epochs=10, val_split=0.15, test_split=0.15, model_path='saved_model', dataset_path='/kaggle/input/imagesoasis/Data'):\n",
    "        self.train_batch_size = train_batch_size\n",
    "        self.test_batch_size = test_batch_size\n",
    "        self.learning_rate = learning_rate\n",
    "        self.num_epochs = num_epochs\n",
    "        self.val_split = val_split\n",
    "        self.test_split = test_split\n",
    "        self.model_path = model_path\n",
    "        self.dataset_path = dataset_path"
   ]
  },
  {
   "cell_type": "markdown",
   "id": "f305360c",
   "metadata": {
    "papermill": {
     "duration": 0.009494,
     "end_time": "2023-06-28T07:35:11.884461",
     "exception": false,
     "start_time": "2023-06-28T07:35:11.874967",
     "status": "completed"
    },
    "tags": []
   },
   "source": [
    "## Dataset Loader"
   ]
  },
  {
   "cell_type": "code",
   "execution_count": 3,
   "id": "ead27427",
   "metadata": {
    "execution": {
     "iopub.execute_input": "2023-06-28T07:35:11.905215Z",
     "iopub.status.busy": "2023-06-28T07:35:11.904941Z",
     "iopub.status.idle": "2023-06-28T07:35:11.910970Z",
     "shell.execute_reply": "2023-06-28T07:35:11.910119Z"
    },
    "papermill": {
     "duration": 0.01879,
     "end_time": "2023-06-28T07:35:11.912910",
     "exception": false,
     "start_time": "2023-06-28T07:35:11.894120",
     "status": "completed"
    },
    "tags": []
   },
   "outputs": [],
   "source": [
    "\n",
    "class CustomDataset(torch.utils.data.Dataset):\n",
    "    def __init__(self, subset, transform=None):\n",
    "        self.subset = subset\n",
    "        self.transform = transform\n",
    "    \n",
    "    def __getitem__(self, index):\n",
    "        x, y = self.subset[index]\n",
    "        if self.transform:\n",
    "            x = self.transform(x)\n",
    "            mean = torch.mean(x)\n",
    "            std = torch.std(x)\n",
    "        return x, mean, std, y\n",
    "    \n",
    "    def __len__(self):\n",
    "        return len(self.subset)"
   ]
  },
  {
   "cell_type": "code",
   "execution_count": 4,
   "id": "4d87db2d",
   "metadata": {
    "execution": {
     "iopub.execute_input": "2023-06-28T07:35:11.934072Z",
     "iopub.status.busy": "2023-06-28T07:35:11.933545Z",
     "iopub.status.idle": "2023-06-28T07:35:11.939096Z",
     "shell.execute_reply": "2023-06-28T07:35:11.938277Z"
    },
    "papermill": {
     "duration": 0.018176,
     "end_time": "2023-06-28T07:35:11.941096",
     "exception": false,
     "start_time": "2023-06-28T07:35:11.922920",
     "status": "completed"
    },
    "tags": []
   },
   "outputs": [],
   "source": [
    "\n",
    "def get_transforms():\n",
    "    transform = transforms.Compose([\n",
    "        transforms.Resize((248, 248)),\n",
    "        transforms.ToTensor(),\n",
    "    ])\n",
    "\n",
    "    return transform"
   ]
  },
  {
   "cell_type": "code",
   "execution_count": 5,
   "id": "9bfab632",
   "metadata": {
    "execution": {
     "iopub.execute_input": "2023-06-28T07:35:11.962183Z",
     "iopub.status.busy": "2023-06-28T07:35:11.961362Z",
     "iopub.status.idle": "2023-06-28T07:35:11.967562Z",
     "shell.execute_reply": "2023-06-28T07:35:11.966808Z"
    },
    "papermill": {
     "duration": 0.018755,
     "end_time": "2023-06-28T07:35:11.969462",
     "exception": false,
     "start_time": "2023-06-28T07:35:11.950707",
     "status": "completed"
    },
    "tags": []
   },
   "outputs": [],
   "source": [
    "\n",
    "def get_sample_weights(dataset, train_dataset):\n",
    "    \n",
    "    # Code taken from:\n",
    "    #     https://www.maskaravivek.com/post/pytorch-weighted-random-sampler/\n",
    "    y_train_indices = train_dataset.indices\n",
    "    y_train = [dataset.targets[i] for i in y_train_indices]\n",
    "    \n",
    "    class_sample_counts = np.array([len(np.where(y_train == t)[0]) for t in np.unique(y_train)])\n",
    "    \n",
    "    weights = 1. / class_sample_counts\n",
    "    sample_weights = np.array([weights[t] for t in y_train])\n",
    "    sample_weights = torch.from_numpy(sample_weights)\n",
    "    \n",
    "    return sample_weights"
   ]
  },
  {
   "cell_type": "code",
   "execution_count": 6,
   "id": "221437da",
   "metadata": {
    "execution": {
     "iopub.execute_input": "2023-06-28T07:35:11.990381Z",
     "iopub.status.busy": "2023-06-28T07:35:11.989590Z",
     "iopub.status.idle": "2023-06-28T07:35:11.999400Z",
     "shell.execute_reply": "2023-06-28T07:35:11.998569Z"
    },
    "papermill": {
     "duration": 0.022221,
     "end_time": "2023-06-28T07:35:12.001302",
     "exception": false,
     "start_time": "2023-06-28T07:35:11.979081",
     "status": "completed"
    },
    "tags": []
   },
   "outputs": [],
   "source": [
    "\n",
    "def get_data_loaders(hparams):\n",
    "    # Loading the dataset\n",
    "    dataset = datasets.ImageFolder(hparams.dataset_path,\n",
    "                                   transform=transforms.Compose([transforms.Grayscale()]))\n",
    "    \n",
    "    # Splitting dataset into train, validation and test partitions.\n",
    "    proportions = [(1 - hparams.val_split - hparams.test_split), hparams.val_split, hparams.test_split]\n",
    "    lengths = [int(p * len(dataset)) for p in proportions]\n",
    "    lengths[-1] = len(dataset) - sum(lengths[:-1])\n",
    "    train_dataset, val_dataset, test_dataset = torch.utils.data.random_split(dataset, lengths)\n",
    "    \n",
    "    print(f'train size: {lengths[0]}, val size: {lengths[1]}, test size: {lengths[2]}')\n",
    "    \n",
    "    data_transforms = {\n",
    "        'train': get_transforms(),\n",
    "        'test': get_transforms()\n",
    "    }\n",
    "    \n",
    "    # Using WeightedRandomSampler to overcome unbalance problem\n",
    "    sample_weights = get_sample_weights(dataset, train_dataset)\n",
    "    train_sampler = torch.utils.data.sampler.WeightedRandomSampler(sample_weights.type('torch.DoubleTensor'), len(sample_weights))\n",
    "    \n",
    "    train_dataset = CustomDataset(train_dataset, transform=data_transforms['train'])\n",
    "    val_dataset = CustomDataset(val_dataset, transform=data_transforms['test'])\n",
    "    test_dataset = CustomDataset(test_dataset, transform=data_transforms['test'])\n",
    "    \n",
    "    # Creating loaders\n",
    "    train_loader = torch.utils.data.DataLoader(train_dataset, batch_size=hparams.train_batch_size, sampler=train_sampler, drop_last=True)\n",
    "    val_loader = torch.utils.data.DataLoader(val_dataset, batch_size=hparams.train_batch_size, drop_last=True)\n",
    "    test_loader = torch.utils.data.DataLoader(test_dataset, batch_size=hparams.test_batch_size)\n",
    "\n",
    "    return train_loader, val_loader, test_loader"
   ]
  },
  {
   "cell_type": "markdown",
   "id": "6960a7f5",
   "metadata": {
    "papermill": {
     "duration": 0.009533,
     "end_time": "2023-06-28T07:35:12.020994",
     "exception": false,
     "start_time": "2023-06-28T07:35:12.011461",
     "status": "completed"
    },
    "tags": []
   },
   "source": [
    "## Model"
   ]
  },
  {
   "cell_type": "code",
   "execution_count": 7,
   "id": "93e90449",
   "metadata": {
    "execution": {
     "iopub.execute_input": "2023-06-28T07:35:12.042726Z",
     "iopub.status.busy": "2023-06-28T07:35:12.042011Z",
     "iopub.status.idle": "2023-06-28T07:35:12.049689Z",
     "shell.execute_reply": "2023-06-28T07:35:12.048867Z"
    },
    "papermill": {
     "duration": 0.02065,
     "end_time": "2023-06-28T07:35:12.051657",
     "exception": false,
     "start_time": "2023-06-28T07:35:12.031007",
     "status": "completed"
    },
    "tags": []
   },
   "outputs": [],
   "source": [
    "\n",
    "class ConvBlock(nn.Module):\n",
    "    def __init__(self, in_channel, mid_channel, out_channel):\n",
    "        super().__init__()\n",
    "        \n",
    "        self.conv1 = nn.Conv2d(in_channel, mid_channel, kernel_size=3, padding=1)\n",
    "        self.batch_norm1 = nn.BatchNorm2d(mid_channel)\n",
    "        self.relu = nn.ReLU()\n",
    "        self.conv2 = nn.Conv2d(mid_channel, out_channel, kernel_size=3, padding=1)\n",
    "        self.batch_norm2 = nn.BatchNorm2d(out_channel)\n",
    "        self.pool = nn.MaxPool2d(kernel_size=2, stride=2)\n",
    "    \n",
    "    def forward(self, x):\n",
    "        x = self.conv1(x)\n",
    "        x = self.batch_norm1(x)\n",
    "        x = self.relu(x)\n",
    "        \n",
    "        x = self.conv2(x)\n",
    "        x = self.batch_norm2(x)\n",
    "        x = self.relu(x)\n",
    "        \n",
    "        x = self.pool(x)\n",
    "        \n",
    "        return x"
   ]
  },
  {
   "cell_type": "code",
   "execution_count": 8,
   "id": "e054825a",
   "metadata": {
    "execution": {
     "iopub.execute_input": "2023-06-28T07:35:12.072452Z",
     "iopub.status.busy": "2023-06-28T07:35:12.071676Z",
     "iopub.status.idle": "2023-06-28T07:35:12.077713Z",
     "shell.execute_reply": "2023-06-28T07:35:12.076926Z"
    },
    "papermill": {
     "duration": 0.018348,
     "end_time": "2023-06-28T07:35:12.079629",
     "exception": false,
     "start_time": "2023-06-28T07:35:12.061281",
     "status": "completed"
    },
    "tags": []
   },
   "outputs": [],
   "source": [
    "class LinearBlock(nn.Module):\n",
    "    def __init__(self, in_channel, out_channel):\n",
    "        super().__init__()\n",
    "        \n",
    "        self.fc = nn.Linear(in_channel, out_channel)\n",
    "        self.batch_norm = nn.BatchNorm1d(out_channel)\n",
    "        self.relu = nn.ReLU()\n",
    "    \n",
    "    def forward(self, x):\n",
    "        x = self.fc(x)\n",
    "        x = self.batch_norm(x)\n",
    "        x = self.relu(x)\n",
    "        \n",
    "        return x"
   ]
  },
  {
   "cell_type": "code",
   "execution_count": 9,
   "id": "e3291280",
   "metadata": {
    "execution": {
     "iopub.execute_input": "2023-06-28T07:35:12.100564Z",
     "iopub.status.busy": "2023-06-28T07:35:12.099818Z",
     "iopub.status.idle": "2023-06-28T07:35:12.109246Z",
     "shell.execute_reply": "2023-06-28T07:35:12.108454Z"
    },
    "papermill": {
     "duration": 0.021925,
     "end_time": "2023-06-28T07:35:12.111270",
     "exception": false,
     "start_time": "2023-06-28T07:35:12.089345",
     "status": "completed"
    },
    "tags": []
   },
   "outputs": [],
   "source": [
    "class CNN(nn.Module):\n",
    "    def __init__(self):\n",
    "        super().__init__()\n",
    "        \n",
    "        self.convblock1 = ConvBlock(1, 32, 64)\n",
    "        self.convblock2 = ConvBlock(64, 128, 128)\n",
    "        self.convblock3 = ConvBlock(128, 256, 256)\n",
    "        self.convblock4 = ConvBlock(256, 512, 512)\n",
    "        \n",
    "        self.flatten = nn.Flatten(start_dim=1)\n",
    "        \n",
    "        self.linearblock1 = LinearBlock(512 * 15 * 15, 1024)\n",
    "        self.linearblock2 = LinearBlock(1024, 512)\n",
    "        self.linearblock3 = LinearBlock(512, 16)\n",
    "        \n",
    "        self.linearblock4 = LinearBlock(16 + 2, 4)\n",
    "        self.softmax = nn.Softmax(dim=1)\n",
    "    \n",
    "    def forward(self, img, mean, std):\n",
    "        x = self.convblock1(img)\n",
    "        x = self.convblock2(x)\n",
    "        x = self.convblock3(x)\n",
    "        x = self.convblock4(x)\n",
    "        \n",
    "        x = self.flatten(x)\n",
    "        \n",
    "        x = self.linearblock1(x)\n",
    "        x = self.linearblock2(x)\n",
    "        x = self.linearblock3(x)\n",
    "        \n",
    "        x = torch.concat([x, mean.unsqueeze(1), std.unsqueeze(1)], dim=-1)\n",
    "        x = self.linearblock4(x)\n",
    "        x = self.softmax(x)\n",
    "        \n",
    "        return x"
   ]
  },
  {
   "cell_type": "markdown",
   "id": "c3127e91",
   "metadata": {
    "papermill": {
     "duration": 0.009585,
     "end_time": "2023-06-28T07:35:12.130616",
     "exception": false,
     "start_time": "2023-06-28T07:35:12.121031",
     "status": "completed"
    },
    "tags": []
   },
   "source": [
    "## Train and Validate Loops"
   ]
  },
  {
   "cell_type": "code",
   "execution_count": 10,
   "id": "15da386f",
   "metadata": {
    "execution": {
     "iopub.execute_input": "2023-06-28T07:35:12.151635Z",
     "iopub.status.busy": "2023-06-28T07:35:12.150811Z",
     "iopub.status.idle": "2023-06-28T07:35:12.160860Z",
     "shell.execute_reply": "2023-06-28T07:35:12.160060Z"
    },
    "papermill": {
     "duration": 0.022465,
     "end_time": "2023-06-28T07:35:12.162742",
     "exception": false,
     "start_time": "2023-06-28T07:35:12.140277",
     "status": "completed"
    },
    "tags": []
   },
   "outputs": [],
   "source": [
    "\n",
    "def train(model, train_loader, criterion, optimizer, device, epoch, num_epochs):\n",
    "    model.train()\n",
    "    train_loss = 0\n",
    "    train_correct = 0\n",
    "    batch_size = 0\n",
    "\n",
    "    targets, preds = [], []\n",
    "\n",
    "    for batch_idx, (img, mean, std, target) in train_loader:\n",
    "        img, mean, std, target = img.to(device), mean.to(device), std.to(device), target.to(device)\n",
    "        batch_size = len(img)\n",
    "\n",
    "        optimizer.zero_grad()\n",
    "        output = model(img, mean, std)\n",
    "        loss = criterion(output, target)\n",
    "        train_loss += loss.item()\n",
    "        pred = output.argmax(dim=1, keepdim=True)\n",
    "\n",
    "        targets.append(target.cpu().numpy())\n",
    "        preds.append(pred.cpu().numpy().flatten())\n",
    "\n",
    "        train_correct += pred.eq(target.view_as(pred)).sum().item()\n",
    "        loss.backward()\n",
    "        optimizer.step()\n",
    "\n",
    "        train_loader.set_description(f'Epoch [{epoch+1}/{num_epochs}]')\n",
    "        train_loader.set_postfix(loss=train_loss / ((batch_idx+1) * len(img)), accuracy=100. * train_correct / ((batch_idx+1) * len(img)))\n",
    "\n",
    "    targets = np.concatenate(targets)\n",
    "    preds = np.concatenate(preds)\n",
    "    f1 = f1_score(targets, preds, average='macro')\n",
    "\n",
    "    train_length = train_loader.total * batch_size\n",
    "    train_loss /= train_length\n",
    "    train_accuracy = 100. * train_correct / train_length\n",
    "    return train_loss, train_accuracy, f1"
   ]
  },
  {
   "cell_type": "code",
   "execution_count": 11,
   "id": "702a4b34",
   "metadata": {
    "execution": {
     "iopub.execute_input": "2023-06-28T07:35:12.183445Z",
     "iopub.status.busy": "2023-06-28T07:35:12.182657Z",
     "iopub.status.idle": "2023-06-28T07:35:12.190254Z",
     "shell.execute_reply": "2023-06-28T07:35:12.189466Z"
    },
    "papermill": {
     "duration": 0.019811,
     "end_time": "2023-06-28T07:35:12.192137",
     "exception": false,
     "start_time": "2023-06-28T07:35:12.172326",
     "status": "completed"
    },
    "tags": []
   },
   "outputs": [],
   "source": [
    "def validate(model, val_loader, criterion, device):\n",
    "    model.eval()\n",
    "    val_loss = 0\n",
    "    val_correct = 0\n",
    "    total_size = 0\n",
    "    with torch.no_grad():\n",
    "        for batch_idx, (img, mean, std, target) in enumerate(val_loader):\n",
    "            img, mean, std, target = img.to(device), mean.to(device), std.to(device), target.to(device)\n",
    "            batch_size = len(img)\n",
    "            output = model(img, mean, std)\n",
    "            loss = criterion(output, target)\n",
    "            val_loss += loss.item()\n",
    "            pred = output.argmax(dim=1, keepdim=True)\n",
    "            val_correct += pred.eq(target.view_as(pred)).sum().item()\n",
    "            \n",
    "            total_size += len(img)\n",
    "    val_loss /= total_size\n",
    "    val_accuracy = 100. * val_correct / total_size\n",
    "    return val_loss, val_accuracy"
   ]
  },
  {
   "cell_type": "code",
   "execution_count": 12,
   "id": "eec83a5a",
   "metadata": {
    "execution": {
     "iopub.execute_input": "2023-06-28T07:35:12.212768Z",
     "iopub.status.busy": "2023-06-28T07:35:12.212042Z",
     "iopub.status.idle": "2023-06-28T07:35:12.221597Z",
     "shell.execute_reply": "2023-06-28T07:35:12.220728Z"
    },
    "papermill": {
     "duration": 0.021747,
     "end_time": "2023-06-28T07:35:12.223464",
     "exception": false,
     "start_time": "2023-06-28T07:35:12.201717",
     "status": "completed"
    },
    "tags": []
   },
   "outputs": [],
   "source": [
    "def predict(model, data_loader, criterion, device, eval=False):\n",
    "    model.eval()\n",
    "    pred_loss = 0\n",
    "    pred_correct = 0\n",
    "    total_size = 0\n",
    "\n",
    "    predictions = torch.IntTensor()\n",
    "    ground_truths = torch.IntTensor()\n",
    "\n",
    "    predictions, ground_truths = predictions.to(device), ground_truths.to(device)\n",
    "\n",
    "    with torch.no_grad():\n",
    "        for batch_idx, (img, mean, std, target) in enumerate(data_loader):\n",
    "            img, mean, std, target = img.to(device), mean.to(device), std.to(device), target.to(device)\n",
    "            output = model(img, mean, std)\n",
    "            loss = criterion(output, target)\n",
    "            pred_loss += loss.item()\n",
    "            pred = output.argmax(dim=1, keepdim=True)\n",
    "            pred_correct += pred.eq(target.view_as(pred)).sum().item()\n",
    "\n",
    "            predictions = torch.cat((predictions, pred), dim=0)\n",
    "            ground_truths = torch.cat((ground_truths, target), dim=0)\n",
    "            \n",
    "            total_size += len(img)\n",
    "    \n",
    "    pred_loss /= total_size\n",
    "    pred_accuracy = 100. * pred_correct / total_size\n",
    "\n",
    "    if eval:\n",
    "        return pred_loss, pred_accuracy, predictions.cpu().numpy(), ground_truths.cpu().numpy()\n",
    "    else:\n",
    "        return predictions.cpu().numpy(), ground_truths.cpu().numpy()"
   ]
  },
  {
   "cell_type": "code",
   "execution_count": 13,
   "id": "bf114aaa",
   "metadata": {
    "execution": {
     "iopub.execute_input": "2023-06-28T07:35:12.244119Z",
     "iopub.status.busy": "2023-06-28T07:35:12.243449Z",
     "iopub.status.idle": "2023-06-28T07:35:12.251244Z",
     "shell.execute_reply": "2023-06-28T07:35:12.250328Z"
    },
    "papermill": {
     "duration": 0.02025,
     "end_time": "2023-06-28T07:35:12.253283",
     "exception": false,
     "start_time": "2023-06-28T07:35:12.233033",
     "status": "completed"
    },
    "tags": []
   },
   "outputs": [],
   "source": [
    "def train_and_validate(model, train_loader, val_loader, criterion, optimizer, device, num_epochs, early_stopping=None):\n",
    "    train_losses = []\n",
    "    train_accuracies = []\n",
    "    val_losses = []\n",
    "    val_accuracies = []\n",
    "\n",
    "    for epoch in range(num_epochs):\n",
    "        loop = tqdm(enumerate(train_loader), total=len(train_loader), ascii=' >=')\n",
    "        train_loss, train_accuracy, f1 = train(model, loop, criterion, optimizer, device, epoch, num_epochs)\n",
    "        train_losses.append(train_loss)\n",
    "        train_accuracies.append(train_accuracy)\n",
    "\n",
    "        val_loss, val_accuracy = validate(model, val_loader, criterion, device)\n",
    "        val_losses.append(val_loss)\n",
    "        val_accuracies.append(val_accuracy)\n",
    "\n",
    "        if early_stopping is not None:\n",
    "            early_stopping(val_accuracy)\n",
    "\n",
    "            if early_stopping.early_stop:\n",
    "                tqdm.write(f'\\t => train_f1={f1:.4f}, val_loss={val_loss:.4f}, val_acc={val_accuracy:.4f}')\n",
    "                print(f'Early stopping at Epoch {epoch+1}')\n",
    "                break\n",
    "\n",
    "        tqdm.write(f'\\t => train_f1={f1:.4f}, val_loss={val_loss:.4f}, val_acc={val_accuracy:.4f}')\n",
    "\n",
    "    return train_losses, train_accuracies, val_losses, val_accuracies"
   ]
  },
  {
   "cell_type": "markdown",
   "id": "f863a8c6",
   "metadata": {
    "papermill": {
     "duration": 0.009309,
     "end_time": "2023-06-28T07:35:12.272186",
     "exception": false,
     "start_time": "2023-06-28T07:35:12.262877",
     "status": "completed"
    },
    "tags": []
   },
   "source": [
    "## Early Stopping"
   ]
  },
  {
   "cell_type": "code",
   "execution_count": 14,
   "id": "1786d1a7",
   "metadata": {
    "execution": {
     "iopub.execute_input": "2023-06-28T07:35:12.292339Z",
     "iopub.status.busy": "2023-06-28T07:35:12.292074Z",
     "iopub.status.idle": "2023-06-28T07:35:12.299701Z",
     "shell.execute_reply": "2023-06-28T07:35:12.298781Z"
    },
    "papermill": {
     "duration": 0.019867,
     "end_time": "2023-06-28T07:35:12.301640",
     "exception": false,
     "start_time": "2023-06-28T07:35:12.281773",
     "status": "completed"
    },
    "tags": []
   },
   "outputs": [],
   "source": [
    "\n",
    "class EarlyStopping:\n",
    "    def __init__(self, patience=5, mode='max'):\n",
    "        self.counter = 0\n",
    "        self.patience = patience\n",
    "        self.early_stop = False\n",
    "        self.mode = mode\n",
    "\n",
    "        if self.mode == 'max':\n",
    "            self.ref_value = float('-inf')\n",
    "        elif self.mode == 'min':\n",
    "            self.ref_value = float('inf')\n",
    "        else:\n",
    "            raise Exception(f'Undefined mode for EarlyStopping - mode: {mode}\\n'\n",
    "                             'Available modes are [\"max\", \"min\"]')\n",
    "\n",
    "    def __call__(self, value):\n",
    "        if self.mode == 'max':\n",
    "            if value <= self.ref_value:\n",
    "                self.counter += 1\n",
    "            else:\n",
    "                self.counter = 0\n",
    "                self.ref_value = value\n",
    "        elif self.mode == 'min':\n",
    "            if value >= self.ref_value:\n",
    "                self.counter += 1\n",
    "            else:\n",
    "                self.counter = 0\n",
    "                self.ref_value = value\n",
    "\n",
    "        if self.counter == self.patience:\n",
    "            self.early_stop = True"
   ]
  },
  {
   "cell_type": "markdown",
   "id": "a8028f9c",
   "metadata": {
    "papermill": {
     "duration": 0.009372,
     "end_time": "2023-06-28T07:35:12.320602",
     "exception": false,
     "start_time": "2023-06-28T07:35:12.311230",
     "status": "completed"
    },
    "tags": []
   },
   "source": [
    "## Visualize"
   ]
  },
  {
   "cell_type": "code",
   "execution_count": 15,
   "id": "0fd111f4",
   "metadata": {
    "execution": {
     "iopub.execute_input": "2023-06-28T07:35:12.341596Z",
     "iopub.status.busy": "2023-06-28T07:35:12.340918Z",
     "iopub.status.idle": "2023-06-28T07:35:12.345949Z",
     "shell.execute_reply": "2023-06-28T07:35:12.345009Z"
    },
    "papermill": {
     "duration": 0.01729,
     "end_time": "2023-06-28T07:35:12.347868",
     "exception": false,
     "start_time": "2023-06-28T07:35:12.330578",
     "status": "completed"
    },
    "tags": []
   },
   "outputs": [],
   "source": [
    "\n",
    "def plot_losses(train_losses, val_losses):\n",
    "    plt.plot(train_losses, label='Training Loss')\n",
    "    plt.plot(val_losses, label='Validation Loss')\n",
    "    plt.xlabel('Epoch')\n",
    "    plt.ylabel('Loss')\n",
    "    plt.legend()\n",
    "    plt.show()"
   ]
  },
  {
   "cell_type": "code",
   "execution_count": 16,
   "id": "3518a945",
   "metadata": {
    "execution": {
     "iopub.execute_input": "2023-06-28T07:35:12.368625Z",
     "iopub.status.busy": "2023-06-28T07:35:12.367874Z",
     "iopub.status.idle": "2023-06-28T07:35:12.373238Z",
     "shell.execute_reply": "2023-06-28T07:35:12.372397Z"
    },
    "papermill": {
     "duration": 0.017729,
     "end_time": "2023-06-28T07:35:12.375166",
     "exception": false,
     "start_time": "2023-06-28T07:35:12.357437",
     "status": "completed"
    },
    "tags": []
   },
   "outputs": [],
   "source": [
    "def plot_accuracies(train_accuracies, val_accuracies):\n",
    "    plt.plot(train_accuracies, label='Training Accuracy')\n",
    "    plt.plot(val_accuracies, label='Validation Accuracy')\n",
    "    plt.xlabel('Epoch')\n",
    "    plt.ylabel('Accuracy')\n",
    "    plt.legend()\n",
    "    plt.show()"
   ]
  },
  {
   "cell_type": "markdown",
   "id": "412cefe2",
   "metadata": {
    "papermill": {
     "duration": 0.009307,
     "end_time": "2023-06-28T07:35:12.394123",
     "exception": false,
     "start_time": "2023-06-28T07:35:12.384816",
     "status": "completed"
    },
    "tags": []
   },
   "source": [
    "## Training and Evaluation"
   ]
  },
  {
   "cell_type": "code",
   "execution_count": 17,
   "id": "5147f733",
   "metadata": {
    "execution": {
     "iopub.execute_input": "2023-06-28T07:35:12.414951Z",
     "iopub.status.busy": "2023-06-28T07:35:12.414171Z",
     "iopub.status.idle": "2023-06-28T07:35:12.487706Z",
     "shell.execute_reply": "2023-06-28T07:35:12.486298Z"
    },
    "papermill": {
     "duration": 0.085863,
     "end_time": "2023-06-28T07:35:12.489635",
     "exception": false,
     "start_time": "2023-06-28T07:35:12.403772",
     "status": "completed"
    },
    "tags": []
   },
   "outputs": [
    {
     "name": "stdout",
     "output_type": "stream",
     "text": [
      "Using cuda device.\n"
     ]
    }
   ],
   "source": [
    "\n",
    "device = torch.device('cuda' if torch.cuda.is_available() else 'cpu')\n",
    "print(f\"Using {device} device.\")"
   ]
  },
  {
   "cell_type": "code",
   "execution_count": 18,
   "id": "5e3ef740",
   "metadata": {
    "execution": {
     "iopub.execute_input": "2023-06-28T07:35:12.511248Z",
     "iopub.status.busy": "2023-06-28T07:35:12.510481Z",
     "iopub.status.idle": "2023-06-28T07:35:12.514753Z",
     "shell.execute_reply": "2023-06-28T07:35:12.513778Z"
    },
    "papermill": {
     "duration": 0.017275,
     "end_time": "2023-06-28T07:35:12.516756",
     "exception": false,
     "start_time": "2023-06-28T07:35:12.499481",
     "status": "completed"
    },
    "tags": []
   },
   "outputs": [],
   "source": [
    "hparams = Hparams()"
   ]
  },
  {
   "cell_type": "code",
   "execution_count": 19,
   "id": "f07ee93e",
   "metadata": {
    "execution": {
     "iopub.execute_input": "2023-06-28T07:35:12.537766Z",
     "iopub.status.busy": "2023-06-28T07:35:12.537045Z",
     "iopub.status.idle": "2023-06-28T07:36:16.896055Z",
     "shell.execute_reply": "2023-06-28T07:36:16.895124Z"
    },
    "papermill": {
     "duration": 64.381439,
     "end_time": "2023-06-28T07:36:16.907873",
     "exception": false,
     "start_time": "2023-06-28T07:35:12.526434",
     "status": "completed"
    },
    "tags": []
   },
   "outputs": [
    {
     "name": "stdout",
     "output_type": "stream",
     "text": [
      "train size: 60505, val size: 12965, test size: 12967\n"
     ]
    }
   ],
   "source": [
    "train_loader, val_loader, test_loader = get_data_loaders(hparams)"
   ]
  },
  {
   "cell_type": "code",
   "execution_count": 20,
   "id": "631404d1",
   "metadata": {
    "execution": {
     "iopub.execute_input": "2023-06-28T07:36:16.931016Z",
     "iopub.status.busy": "2023-06-28T07:36:16.930700Z",
     "iopub.status.idle": "2023-06-28T07:36:16.935157Z",
     "shell.execute_reply": "2023-06-28T07:36:16.934165Z"
    },
    "papermill": {
     "duration": 0.019707,
     "end_time": "2023-06-28T07:36:16.937412",
     "exception": false,
     "start_time": "2023-06-28T07:36:16.917705",
     "status": "completed"
    },
    "tags": []
   },
   "outputs": [],
   "source": [
    "early_stopping = EarlyStopping(patience=3, mode='max')"
   ]
  },
  {
   "cell_type": "markdown",
   "id": "8a40018d",
   "metadata": {
    "papermill": {
     "duration": 0.00966,
     "end_time": "2023-06-28T07:36:16.956989",
     "exception": false,
     "start_time": "2023-06-28T07:36:16.947329",
     "status": "completed"
    },
    "tags": []
   },
   "source": [
    "### Training"
   ]
  },
  {
   "cell_type": "code",
   "execution_count": 21,
   "id": "95edd60a",
   "metadata": {
    "execution": {
     "iopub.execute_input": "2023-06-28T07:36:16.978174Z",
     "iopub.status.busy": "2023-06-28T07:36:16.977888Z",
     "iopub.status.idle": "2023-06-28T07:36:21.135991Z",
     "shell.execute_reply": "2023-06-28T07:36:21.135056Z"
    },
    "papermill": {
     "duration": 4.171536,
     "end_time": "2023-06-28T07:36:21.138507",
     "exception": false,
     "start_time": "2023-06-28T07:36:16.966971",
     "status": "completed"
    },
    "tags": []
   },
   "outputs": [],
   "source": [
    "\n",
    "model = CNN().to(device)"
   ]
  },
  {
   "cell_type": "code",
   "execution_count": 22,
   "id": "9680cf6a",
   "metadata": {
    "execution": {
     "iopub.execute_input": "2023-06-28T07:36:21.161492Z",
     "iopub.status.busy": "2023-06-28T07:36:21.160422Z",
     "iopub.status.idle": "2023-06-28T07:36:21.167786Z",
     "shell.execute_reply": "2023-06-28T07:36:21.166938Z"
    },
    "papermill": {
     "duration": 0.020746,
     "end_time": "2023-06-28T07:36:21.169703",
     "exception": false,
     "start_time": "2023-06-28T07:36:21.148957",
     "status": "completed"
    },
    "tags": []
   },
   "outputs": [],
   "source": [
    "criterion = nn.CrossEntropyLoss()\n",
    "optimizer = optim.Adam(model.parameters(), lr=hparams.learning_rate)"
   ]
  },
  {
   "cell_type": "code",
   "execution_count": 23,
   "id": "cd59028d",
   "metadata": {
    "execution": {
     "iopub.execute_input": "2023-06-28T07:36:21.191113Z",
     "iopub.status.busy": "2023-06-28T07:36:21.190814Z",
     "iopub.status.idle": "2023-06-28T08:59:19.788141Z",
     "shell.execute_reply": "2023-06-28T08:59:19.783907Z"
    },
    "papermill": {
     "duration": 4980.601475,
     "end_time": "2023-06-28T08:59:21.781202",
     "exception": false,
     "start_time": "2023-06-28T07:36:21.179727",
     "status": "completed"
    },
    "tags": []
   },
   "outputs": [
    {
     "name": "stderr",
     "output_type": "stream",
     "text": [
      "Epoch [1/10]: 100%|==========| 945/945 [08:05<00:00,  1.95it/s, accuracy=94.3, loss=0.0143]\n"
     ]
    },
    {
     "name": "stdout",
     "output_type": "stream",
     "text": [
      "\t => train_f1=0.9422, val_loss=0.0126, val_acc=97.6562\n"
     ]
    },
    {
     "name": "stderr",
     "output_type": "stream",
     "text": [
      "Epoch [2/10]: 100%|==========| 945/945 [07:56<00:00,  1.98it/s, accuracy=98.9, loss=0.0123]\n"
     ]
    },
    {
     "name": "stdout",
     "output_type": "stream",
     "text": [
      "\t => train_f1=0.9894, val_loss=0.0123, val_acc=98.2673\n"
     ]
    },
    {
     "name": "stderr",
     "output_type": "stream",
     "text": [
      "Epoch [3/10]: 100%|==========| 945/945 [07:56<00:00,  1.98it/s, accuracy=99.2, loss=0.012]\n"
     ]
    },
    {
     "name": "stdout",
     "output_type": "stream",
     "text": [
      "\t => train_f1=0.9921, val_loss=0.0118, val_acc=99.6055\n"
     ]
    },
    {
     "name": "stderr",
     "output_type": "stream",
     "text": [
      "Epoch [4/10]: 100%|==========| 945/945 [07:56<00:00,  1.98it/s, accuracy=99.4, loss=0.0118]\n"
     ]
    },
    {
     "name": "stdout",
     "output_type": "stream",
     "text": [
      "\t => train_f1=0.9943, val_loss=0.0118, val_acc=99.5436\n"
     ]
    },
    {
     "name": "stderr",
     "output_type": "stream",
     "text": [
      "Epoch [5/10]: 100%|==========| 945/945 [07:56<00:00,  1.98it/s, accuracy=99.5, loss=0.0118]\n"
     ]
    },
    {
     "name": "stdout",
     "output_type": "stream",
     "text": [
      "\t => train_f1=0.9952, val_loss=0.0119, val_acc=98.3679\n"
     ]
    },
    {
     "name": "stderr",
     "output_type": "stream",
     "text": [
      "Epoch [6/10]: 100%|==========| 945/945 [07:56<00:00,  1.98it/s, accuracy=99.6, loss=0.0117]\n"
     ]
    },
    {
     "name": "stdout",
     "output_type": "stream",
     "text": [
      "\t => train_f1=0.9958, val_loss=0.0117, val_acc=99.7834\n"
     ]
    },
    {
     "name": "stderr",
     "output_type": "stream",
     "text": [
      "Epoch [7/10]: 100%|==========| 945/945 [07:56<00:00,  1.98it/s, accuracy=99.5, loss=0.0117]\n"
     ]
    },
    {
     "name": "stdout",
     "output_type": "stream",
     "text": [
      "\t => train_f1=0.9951, val_loss=0.0118, val_acc=99.1801\n"
     ]
    },
    {
     "name": "stderr",
     "output_type": "stream",
     "text": [
      "Epoch [8/10]: 100%|==========| 945/945 [07:59<00:00,  1.97it/s, accuracy=99.6, loss=0.0117]\n"
     ]
    },
    {
     "name": "stdout",
     "output_type": "stream",
     "text": [
      "\t => train_f1=0.9963, val_loss=0.0117, val_acc=99.6519\n"
     ]
    },
    {
     "name": "stderr",
     "output_type": "stream",
     "text": [
      "Epoch [9/10]: 100%|==========| 945/945 [07:56<00:00,  1.98it/s, accuracy=99.7, loss=0.0117]\n"
     ]
    },
    {
     "name": "stdout",
     "output_type": "stream",
     "text": [
      "\t => train_f1=0.9970, val_loss=0.0117, val_acc=99.4972\n",
      "Early stopping at Epoch 9\n"
     ]
    }
   ],
   "source": [
    "train_losses, train_accuracies, val_losses, val_accuracies = train_and_validate(model, train_loader, val_loader, criterion, optimizer, device, num_epochs=hparams.num_epochs, early_stopping=early_stopping)"
   ]
  },
  {
   "cell_type": "code",
   "execution_count": 24,
   "id": "0e44132e",
   "metadata": {
    "execution": {
     "iopub.execute_input": "2023-06-28T08:59:25.712593Z",
     "iopub.status.busy": "2023-06-28T08:59:25.712216Z",
     "iopub.status.idle": "2023-06-28T08:59:26.263778Z",
     "shell.execute_reply": "2023-06-28T08:59:26.262816Z"
    },
    "papermill": {
     "duration": 2.525561,
     "end_time": "2023-06-28T08:59:26.265791",
     "exception": false,
     "start_time": "2023-06-28T08:59:23.740230",
     "status": "completed"
    },
    "tags": []
   },
   "outputs": [
    {
     "data": {
      "image/png": "[encoded data removed]",
      "text/plain": [
       "<Figure size 640x480 with 1 Axes>"
      ]
     },
     "metadata": {},
     "output_type": "display_data"
    },
    {
     "data": {
      "image/png": "[encoded data removed]",
      "text/plain": [
       "<Figure size 640x480 with 1 Axes>"
      ]
     },
     "metadata": {},
     "output_type": "display_data"
    }
   ],
   "source": [
    "plot_losses(train_losses, val_losses)\n",
    "plot_accuracies(train_accuracies, val_accuracies)"
   ]
  },
  {
   "cell_type": "markdown",
   "id": "e3a9e279",
   "metadata": {
    "papermill": {
     "duration": 1.962753,
     "end_time": "2023-06-28T08:59:30.281000",
     "exception": false,
     "start_time": "2023-06-28T08:59:28.318247",
     "status": "completed"
    },
    "tags": []
   },
   "source": [
    "### Testing"
   ]
  },
  {
   "cell_type": "code",
   "execution_count": 25,
   "id": "00d83a94",
   "metadata": {
    "execution": {
     "iopub.execute_input": "2023-06-28T08:59:34.227324Z",
     "iopub.status.busy": "2023-06-28T08:59:34.226979Z",
     "iopub.status.idle": "2023-06-28T09:02:02.096278Z",
     "shell.execute_reply": "2023-06-28T09:02:02.095226Z"
    },
    "papermill": {
     "duration": 151.855864,
     "end_time": "2023-06-28T09:02:04.143649",
     "exception": false,
     "start_time": "2023-06-28T08:59:32.287785",
     "status": "completed"
    },
    "tags": []
   },
   "outputs": [
    {
     "name": "stdout",
     "output_type": "stream",
     "text": [
      "Test Loss: 0.0117, Test Accuracy: 99.48%\n"
     ]
    }
   ],
   "source": [
    "test_loss, test_accuracy = validate(model, test_loader, criterion, device)\n",
    "print(f\"Test Loss: {test_loss:.4f}, Test Accuracy: {test_accuracy:.2f}%\")"
   ]
  },
  {
   "cell_type": "markdown",
   "id": "e85d9461",
   "metadata": {
    "papermill": {
     "duration": 1.941345,
     "end_time": "2023-06-28T09:02:08.054252",
     "exception": false,
     "start_time": "2023-06-28T09:02:06.112907",
     "status": "completed"
    },
    "tags": []
   },
   "source": [
    "## Saving Model"
   ]
  },
  {
   "cell_type": "code",
   "execution_count": 26,
   "id": "bb921b81",
   "metadata": {
    "execution": {
     "iopub.execute_input": "2023-06-28T09:02:11.879633Z",
     "iopub.status.busy": "2023-06-28T09:02:11.879239Z",
     "iopub.status.idle": "2023-06-28T09:02:11.885384Z",
     "shell.execute_reply": "2023-06-28T09:02:11.884454Z"
    },
    "papermill": {
     "duration": 1.885414,
     "end_time": "2023-06-28T09:02:11.887380",
     "exception": false,
     "start_time": "2023-06-28T09:02:10.001966",
     "status": "completed"
    },
    "tags": []
   },
   "outputs": [],
   "source": [
    "def save_model(model, hparams):\n",
    "    os.makedirs(hparams.model_path, exist_ok=True)\n",
    "\n",
    "    model_name = model.__class__.__name__ + '_' + datetime.now().strftime(\"%Y_%m_%d-%H_%M_%S\" + '.pt')\n",
    "\n",
    "    try:\n",
    "        torch.save(model.state_dict(), os.path.join(hparams.model_path, model_name))\n",
    "        return True\n",
    "    except:\n",
    "        return False"
   ]
  },
  {
   "cell_type": "code",
   "execution_count": 27,
   "id": "de516810",
   "metadata": {
    "execution": {
     "iopub.execute_input": "2023-06-28T09:02:15.819273Z",
     "iopub.status.busy": "2023-06-28T09:02:15.818921Z",
     "iopub.status.idle": "2023-06-28T09:02:16.754340Z",
     "shell.execute_reply": "2023-06-28T09:02:16.753370Z"
    },
    "papermill": {
     "duration": 2.888773,
     "end_time": "2023-06-28T09:02:16.756405",
     "exception": false,
     "start_time": "2023-06-28T09:02:13.867632",
     "status": "completed"
    },
    "tags": []
   },
   "outputs": [
    {
     "data": {
      "text/plain": [
       "True"
      ]
     },
     "execution_count": 27,
     "metadata": {},
     "output_type": "execute_result"
    }
   ],
   "source": [
    "save_model(model, hparams)"
   ]
  },
  {
   "cell_type": "markdown",
   "id": "fd1bf7db",
   "metadata": {
    "papermill": {
     "duration": 2.013018,
     "end_time": "2023-06-28T09:02:20.722775",
     "exception": false,
     "start_time": "2023-06-28T09:02:18.709757",
     "status": "completed"
    },
    "tags": []
   },
   "source": [
    "## Confusion Matrix"
   ]
  },
  {
   "cell_type": "code",
   "execution_count": 28,
   "id": "0196a1ef",
   "metadata": {
    "execution": {
     "iopub.execute_input": "2023-06-28T09:02:25.098838Z",
     "iopub.status.busy": "2023-06-28T09:02:25.098436Z",
     "iopub.status.idle": "2023-06-28T09:03:28.911869Z",
     "shell.execute_reply": "2023-06-28T09:03:28.910909Z"
    },
    "papermill": {
     "duration": 65.77866,
     "end_time": "2023-06-28T09:03:28.914132",
     "exception": false,
     "start_time": "2023-06-28T09:02:23.135472",
     "status": "completed"
    },
    "tags": []
   },
   "outputs": [],
   "source": [
    "predictions, labels = predict(model, test_loader, criterion, device, eval=False)"
   ]
  },
  {
   "cell_type": "code",
   "execution_count": 29,
   "id": "d7a69033",
   "metadata": {
    "execution": {
     "iopub.execute_input": "2023-06-28T09:03:32.751149Z",
     "iopub.status.busy": "2023-06-28T09:03:32.750678Z",
     "iopub.status.idle": "2023-06-28T09:03:32.762569Z",
     "shell.execute_reply": "2023-06-28T09:03:32.761592Z"
    },
    "papermill": {
     "duration": 1.969173,
     "end_time": "2023-06-28T09:03:32.766495",
     "exception": false,
     "start_time": "2023-06-28T09:03:30.797322",
     "status": "completed"
    },
    "tags": []
   },
   "outputs": [],
   "source": [
    "conf_mat = confusion_matrix(labels, predictions)\n",
    "class_to_idx = list(train_loader.dataset.subset.dataset.class_to_idx)\n",
    "df_cm = pd.DataFrame(conf_mat, index = class_to_idx, columns = class_to_idx)"
   ]
  },
  {
   "cell_type": "code",
   "execution_count": 30,
   "id": "a1bd2f55",
   "metadata": {
    "execution": {
     "iopub.execute_input": "2023-06-28T09:03:36.768239Z",
     "iopub.status.busy": "2023-06-28T09:03:36.767882Z",
     "iopub.status.idle": "2023-06-28T09:03:37.109323Z",
     "shell.execute_reply": "2023-06-28T09:03:37.108454Z"
    },
    "papermill": {
     "duration": 2.321033,
     "end_time": "2023-06-28T09:03:37.111228",
     "exception": false,
     "start_time": "2023-06-28T09:03:34.790195",
     "status": "completed"
    },
    "tags": []
   },
   "outputs": [
    {
     "data": {
      "text/plain": [
       "<Axes: >"
      ]
     },
     "execution_count": 30,
     "metadata": {},
     "output_type": "execute_result"
    },
    {
     "data": {
      "image/png": "[encoded data removed]",
      "text/plain": [
       "<Figure size 640x480 with 2 Axes>"
      ]
     },
     "metadata": {},
     "output_type": "display_data"
    }
   ],
   "source": [
    "sn.heatmap(df_cm, annot=True, fmt='', cmap='Blues')"
   ]
  },
  {
   "cell_type": "markdown",
   "id": "65913f55",
   "metadata": {
    "papermill": {
     "duration": 1.906352,
     "end_time": "2023-06-28T09:03:40.971429",
     "exception": false,
     "start_time": "2023-06-28T09:03:39.065077",
     "status": "completed"
    },
    "tags": []
   },
   "source": [
    "## Classification Report"
   ]
  },
  {
   "cell_type": "code",
   "execution_count": 31,
   "id": "2933c9c9",
   "metadata": {
    "execution": {
     "iopub.execute_input": "2023-06-28T09:03:44.935952Z",
     "iopub.status.busy": "2023-06-28T09:03:44.935594Z",
     "iopub.status.idle": "2023-06-28T09:03:44.960372Z",
     "shell.execute_reply": "2023-06-28T09:03:44.958791Z"
    },
    "papermill": {
     "duration": 1.985983,
     "end_time": "2023-06-28T09:03:44.962445",
     "exception": false,
     "start_time": "2023-06-28T09:03:42.976462",
     "status": "completed"
    },
    "tags": []
   },
   "outputs": [
    {
     "name": "stdout",
     "output_type": "stream",
     "text": [
      "                    precision    recall  f1-score   support\n",
      "\n",
      "     Mild Dementia       1.00      1.00      1.00       732\n",
      " Moderate Dementia       1.00      1.00      1.00        73\n",
      "      Non Demented       1.00      1.00      1.00     10199\n",
      "Very mild Dementia       0.99      0.98      0.98      1963\n",
      "\n",
      "          accuracy                           0.99     12967\n",
      "         macro avg       1.00      0.99      0.99     12967\n",
      "      weighted avg       0.99      0.99      0.99     12967\n",
      "\n"
     ]
    }
   ],
   "source": [
    "print(classification_report(labels, predictions, target_names=class_to_idx))"
   ]
  }
 ],
 "metadata": {
  "kernelspec": {
   "display_name": "Python 3 (ipykernel)",
   "language": "python",
   "name": "python3"
  },
  "language_info": {
   "codemirror_mode": {
    "name": "ipython",
    "version": 3
   },
   "file_extension": ".py",
   "mimetype": "text/x-python",
   "name": "python",
   "nbconvert_exporter": "python",
   "pygments_lexer": "ipython3",
   "version": "3.9.20"
  },
  "papermill": {
   "default_parameters": {},
   "duration": 5333.111242,
   "end_time": "2023-06-28T09:03:48.863303",
   "environment_variables": {},
   "exception": null,
   "input_path": "__notebook__.ipynb",
   "output_path": "__notebook__.ipynb",
   "parameters": {},
   "start_time": "2023-06-28T07:34:55.752061",
   "version": "2.4.0"
  }
 },
 "nbformat": 4,
 "nbformat_minor": 5
}
